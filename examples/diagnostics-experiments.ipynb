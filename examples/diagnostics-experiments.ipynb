{
 "cells": [
  {
   "cell_type": "markdown",
   "metadata": {},
   "source": [
    "# Complete guide"
   ]
  },
  {
   "cell_type": "code",
   "execution_count": 142,
   "metadata": {},
   "outputs": [],
   "source": [
    "import pandas as pd\n",
    "import numpy as np\n",
    "import matplotlib.pyplot as plt\n",
    "from scipy.stats import rankdata\n",
    "\n",
    "\n",
    "\n",
    "import trecs\n",
    "from trecs.models import ContentFiltering, ImplicitMF\n",
    "from trecs.random import Generator\n",
    "from trecs.metrics import MSEMeasurement, RecSimilarity, InteractionSimilarity, RecallMeasurement\n",
    "from trecs.components import Users\n",
    "import trecs.matrix_ops as mo #Note, in order for the ideal recommender to result in non-insane results, the normalize_users parameter in mo.inner_product must be set to False"
   ]
  },
  {
   "cell_type": "code",
   "execution_count": null,
   "metadata": {},
   "outputs": [],
   "source": [
    "#https://web.ma.utexas.edu/users/mks/statmistakes/skeweddistributions.html"
   ]
  },
  {
   "cell_type": "code",
   "execution_count": null,
   "metadata": {},
   "outputs": [],
   "source": [
    "class IdealRecommender(ContentFiltering):\n",
    "    \"\"\"\n",
    "    With the Ideal Recommender, we make the *strong assumption* that the true scores are provided\n",
    "    to the recommender system through a custom scoring function, which always returns the true\n",
    "    underlying user-item scores. Therefore, this class is pretty much an empty skeleton; the only\n",
    "    modification is that we don't update any internal state of the recommender at each time step.\n",
    "    \n",
    "    Amy: Note to self, as a part of the baseline ContentFiltering class, if an actual_item_representation \n",
    "    \"\"\"\n",
    "    def __init__(self, *args, **kwargs):\n",
    "        \n",
    "        \n",
    "        super().__init__(*args, **kwargs)\n",
    "    \n",
    "\n",
    "    def _update_internal_state(self, interactions):\n",
    "        # do not change users_hat!\n",
    "        pass\n"
   ]
  },
  {
   "cell_type": "code",
   "execution_count": null,
   "metadata": {},
   "outputs": [],
   "source": [
    "#np.random.seed(1)\n",
    "plt.style.use('seaborn')\n",
    "plt.rcParams.update({'font.size': 50})"
   ]
  },
  {
   "cell_type": "code",
   "execution_count": 202,
   "metadata": {},
   "outputs": [],
   "source": [
    "# Keep the dimensions small for easy visualization\n",
    "number_of_users = 15\n",
    "number_of_attributes = 10\n",
    "number_of_items = 20\n",
    "# We define user_representation using the standard integer generator in Numpy.\n",
    "# We assume a number of interactions with each attribute in the interval [0,4).\n",
    "\n",
    "users_shape = (number_of_users, number_of_attributes)\n",
    "actual_user_representation = Users(size=users_shape, num_users=number_of_users)\n",
    "model_user_representation = np.random.randint(4, size=(number_of_users, number_of_attributes))\n",
    "\n",
    "# We define item_representation using the Generator that comes with the framework\n",
    "# We assume a binary matrix with a binomial distribution\n",
    "\n",
    "actual_item_representation = Generator().binomial(\n",
    "    n=1, p=.3, size=(number_of_attributes, number_of_items)\n",
    ")\n",
    "\n",
    "model_item_representation = Generator().binomial(\n",
    "    n=1, p=.3, size=(number_of_attributes, number_of_items)\n",
    ")"
   ]
  },
  {
   "cell_type": "code",
   "execution_count": null,
   "metadata": {
    "scrolled": true
   },
   "outputs": [],
   "source": [
    "#Not positive this is correct\n",
    "\n",
    "content = ContentFiltering(\n",
    "    num_users=number_of_users,\n",
    "    num_items=number_of_items,\n",
    "    num_attributes=number_of_attributes,\n",
    "    actual_user_representation=actual_user_representation,\n",
    "    user_representation=model_user_representation, \n",
    "    actual_item_representation = actual_item_representation,\n",
    "    item_representation=actual_item_representation, #model has the true item values\n",
    ")\n",
    "# add an MSE measurement\n",
    "content.add_metrics(MSEMeasurement(), RecallMeasurement())\n",
    "# Run for 5 time steps\n",
    "content.run(timesteps=1)"
   ]
  },
  {
   "cell_type": "code",
   "execution_count": null,
   "metadata": {},
   "outputs": [],
   "source": [
    "ideal = IdealRecommender(\n",
    "    num_users=number_of_users,\n",
    "    num_items=number_of_items,\n",
    "    num_attributes=number_of_attributes,\n",
    "    actual_user_representation=actual_user_representation,\n",
    "    user_representation=actual_user_representation.actual_user_profiles.value, \n",
    "    actual_item_representation = actual_item_representation,\n",
    "    item_representation=actual_item_representation, #model has the true item values\n",
    "    num_items_per_iter=\"all\",\n",
    ")\n",
    "# add an MSE measurement\n",
    "ideal.add_metrics(MSEMeasurement(), RecallMeasurement())\n",
    "# Run for 5 time steps\n",
    "ideal.run(timesteps=5)"
   ]
  },
  {
   "cell_type": "code",
   "execution_count": 203,
   "metadata": {},
   "outputs": [],
   "source": [
    "mf = ImplicitMF(\n",
    "    num_users=number_of_users,\n",
    "    num_items=number_of_items,\n",
    "    num_latent_factors=number_of_attributes,\n",
    "    actual_user_representation=actual_user_representation,\n",
    "    actual_item_representation = actual_item_representation,\n",
    "    num_items_per_iter=10,\n",
    ")\n",
    "# add an MSE measurement\n",
    "mf.add_metrics(MSEMeasurement(), RecallMeasurement(k=5))\n",
    "# Run for 5 time steps\n",
    "#mf.run(timesteps=5,train_between_steps=True)"
   ]
  },
  {
   "cell_type": "code",
   "execution_count": 204,
   "metadata": {},
   "outputs": [
    {
     "name": "stderr",
     "output_type": "stream",
     "text": [
      "100%|██████████| 1/1 [00:00<00:00, 141.40it/s]\n"
     ]
    }
   ],
   "source": [
    "mf.run(timesteps=1)"
   ]
  },
  {
   "cell_type": "code",
   "execution_count": 207,
   "metadata": {},
   "outputs": [
    {
     "name": "stdout",
     "output_type": "stream",
     "text": [
      "items shown:\n",
      "[[15  4 17  1  6 11  2  3 18  5]\n",
      " [ 1  9 17  2  3  7  5 19  8  6]\n",
      " [ 0 10 14  9  6  3  4  8 18 17]\n",
      " [13 19  5 14  2 15 18  1  9  8]\n",
      " [11  0  8 13  9 15  5 10  4 12]\n",
      " [ 0  6 14 16 18 12  2 15  3 19]\n",
      " [ 2 12 14  0 15  6 13 16 17 19]\n",
      " [16 12  9  1 10 18 19  7  8 13]\n",
      " [ 0 11  4 18  3 10  8 14  6 13]\n",
      " [15 19 13  2 17  5  4  7  1 14]\n",
      " [ 0  4 15 11 17  3 10 14 13  8]\n",
      " [16 12  6 14 18 13  2 19  0 15]\n",
      " [ 2  1  3 14 19  9  6  5 18 16]\n",
      " [11  8 13  4  7 16  0 12 17  5]\n",
      " [16 12 13 14  7 19  6 18  2 10]]\n",
      "shown item scores:\n",
      "[[ 2.42591308  2.27489656  1.29349126  0.49216367  0.40664089  0.27980714\n",
      "   0.13765724  0.09902688 -0.12677321 -0.14426996]\n",
      " [ 1.63689668  1.24908194  1.20957248  1.0938576   1.04858252  0.81411158\n",
      "   0.69836725  0.62544259  0.20473443  0.04296785]\n",
      " [ 2.97096988  1.94276861  1.03605634  0.98679941  0.67671259  0.34364815\n",
      "   0.28761303  0.28488361  0.10519972 -0.07951523]\n",
      " [ 1.5004487   1.44129148  1.37182779  0.71709371  0.60081034  0.5261027\n",
      "   0.46040504  0.19768138  0.10832054  0.08188041]\n",
      " [ 1.96946664  1.34971158  0.74042835  0.39631531  0.36063345  0.09364832\n",
      "  -0.02813386 -0.0872277  -0.2051998  -0.38982436]\n",
      " [ 1.78146284  1.61265851  1.56990389  1.44453218  1.13288047  0.9457946\n",
      "   0.72240637  0.51319976  0.31873303  0.2909813 ]\n",
      " [ 1.21857043  1.215489    1.06339627  0.87219929  0.83860398  0.57101559\n",
      "   0.5199049   0.41143882  0.40002004  0.19331998]\n",
      " [ 1.38354401  1.22595262  1.02795616  0.31041069  0.29003568  0.14359933\n",
      "   0.12522467  0.11108552  0.03996649 -0.19948763]\n",
      " [ 3.40009815  1.48025735  0.96783209  0.60792317  0.5981805   0.47309648\n",
      "   0.39810575  0.13210816  0.04684048 -0.22172344]\n",
      " [ 2.33475085  1.51857862  1.24509425  1.09685422  0.7680252   0.62357088\n",
      "   0.58907516  0.32827035  0.310788    0.13395328]\n",
      " [ 3.30013797  1.79824622  1.55669224  1.48422898  1.30203685  0.74634763\n",
      "   0.61502805  0.306989    0.14770055  0.05693254]\n",
      " [ 2.59773516  2.0943513   1.37582361  1.28394043  1.15331503  1.13388909\n",
      "   0.82075222  0.57339507  0.56815366 -0.16933329]\n",
      " [ 1.34359463  0.91112998  0.89432467  0.87709591  0.83554906  0.7762057\n",
      "   0.68625988  0.51311198  0.47222156  0.16467751]\n",
      " [ 2.66340402  1.29816913  0.90728434  0.69117813  0.63920722  0.49003665\n",
      "   0.46816262  0.36731025 -0.04810873 -0.09204595]\n",
      " [ 2.34100398  2.18691327  1.08472963  1.05872062  0.71230451  0.55554839\n",
      "   0.54796512  0.46058214  0.40262024  0.26194328]]\n",
      "shown item ranks:\n",
      "[[9 8 7 6 5 4 3 2 1 0]\n",
      " [9 8 7 6 5 4 3 2 1 0]\n",
      " [9 8 7 6 5 4 3 2 1 0]\n",
      " [9 8 7 6 5 4 3 2 1 0]\n",
      " [9 8 7 6 5 4 3 2 1 0]\n",
      " [9 8 7 6 5 4 3 2 1 0]\n",
      " [9 8 7 6 5 4 3 2 1 0]\n",
      " [9 8 7 6 5 4 3 2 1 0]\n",
      " [9 8 7 6 5 4 3 2 1 0]\n",
      " [9 8 7 6 5 4 3 2 1 0]\n",
      " [9 8 7 6 5 4 3 2 1 0]\n",
      " [9 8 7 6 5 4 3 2 1 0]\n",
      " [9 8 7 6 5 4 3 2 1 0]\n",
      " [9 8 7 6 5 4 3 2 1 0]\n",
      " [9 8 7 6 5 4 3 2 1 0]]\n",
      "top k item ids\n",
      "[[4 3 2 1 0]\n",
      " [4 3 2 1 0]\n",
      " [4 3 2 1 0]\n",
      " [4 3 2 1 0]\n",
      " [4 3 2 1 0]\n",
      " [4 3 2 1 0]\n",
      " [4 3 2 1 0]\n",
      " [4 3 2 1 0]\n",
      " [4 3 2 1 0]\n",
      " [4 3 2 1 0]\n",
      " [4 3 2 1 0]\n",
      " [4 3 2 1 0]\n",
      " [4 3 2 1 0]\n",
      " [4 3 2 1 0]\n",
      " [4 3 2 1 0]]\n",
      "top k items:\n",
      "[[ 6  1 17  4 15]\n",
      " [ 3  2 17  9  1]\n",
      " [ 6  9 14 10  0]\n",
      " [ 2 14  5 19 13]\n",
      " [ 9 13  8  0 11]\n",
      " [18 16 14  6  0]\n",
      " [15  0 14 12  2]\n",
      " [10  1  9 12 16]\n",
      " [ 3 18  4 11  0]\n",
      " [17  2 13 19 15]\n",
      " [17 11 15  4  0]\n",
      " [18 14  6 12 16]\n",
      " [19 14  3  1  2]\n",
      " [ 7  4 13  8 11]\n",
      " [ 7 14 13 12 16]]\n",
      "[[ 2]\n",
      " [ 3]\n",
      " [10]\n",
      " [13]\n",
      " [11]\n",
      " [15]\n",
      " [ 2]\n",
      " [16]\n",
      " [ 4]\n",
      " [13]\n",
      " [15]\n",
      " [16]\n",
      " [ 9]\n",
      " [11]\n",
      " [13]]\n",
      "0.8\n"
     ]
    }
   ],
   "source": [
    "#Testing recall stuff. Keep this in until a larger dataset can be evaluated\n",
    "#k=2\n",
    "k=5\n",
    "recommender = mf\n",
    "shown_item_scores = np.take_along_axis(recommender.predicted_scores.value, recommender.items_shown, axis=1)\n",
    "\n",
    "shown_item_ranks = np.argsort(shown_item_scores, axis=1)\n",
    "#top_item_idxs = shown_item_ranks[:, recommender.items_shown.shape[1] - k:]\n",
    "top_item_idxs = shown_item_ranks[:, -k:]\n",
    "\n",
    "top_k_items = np.take_along_axis(recommender.items_shown, top_item_idxs, axis=1)\n",
    "\n",
    "#np.take_along_axis(recommender.users.actual_user_scores.value, top_item_ids, axis=1)\n",
    "\n",
    "print('items shown:')\n",
    "print(recommender.items_shown)\n",
    "\n",
    "print('shown item scores:')\n",
    "print(shown_item_scores)\n",
    "\n",
    "print('shown item ranks:')\n",
    "print(shown_item_ranks)\n",
    "\n",
    "print('top k item ids')\n",
    "print(top_item_idxs)\n",
    "\n",
    "print('top k items:')\n",
    "print(top_k_items)\n",
    "\n",
    "interactions = recommender.interactions.reshape(recommender.num_users, 1)\n",
    "print(interactions)\n",
    "recall = len(np.where(interactions == top_k_items)[0]) / recommender.num_users\n",
    "print(recall)"
   ]
  },
  {
   "cell_type": "code",
   "execution_count": 220,
   "metadata": {},
   "outputs": [
    {
     "name": "stdout",
     "output_type": "stream",
     "text": [
      "[[15  4 17  1  6 11  2  3 18  5]\n",
      " [ 1  9 17  2  3  7  5 19  8  6]\n",
      " [ 0 10 14  9  6  3  4  8 18 17]]\n",
      "[[ 6  1 17  4 15]\n",
      " [ 3  2 17  9  1]\n",
      " [ 6  9 14 10  0]\n",
      " [ 2 14  5 19 13]\n",
      " [ 9 13  8  0 11]\n",
      " [18 16 14  6  0]\n",
      " [15  0 14 12  2]\n",
      " [10  1  9 12 16]\n",
      " [ 3 18  4 11  0]\n",
      " [17  2 13 19 15]\n",
      " [17 11 15  4  0]\n",
      " [18 14  6 12 16]\n",
      " [19 14  3  1  2]\n",
      " [ 7  4 13  8 11]\n",
      " [ 7 14 13 12 16]]\n",
      "[[-0.2383659   0.49216367  0.13765724  0.09902688  2.27489656 -0.14426996\n",
      "   0.40664089 -0.25993857 -1.29737349 -0.3208579  -0.4465261   0.27980714\n",
      "  -0.78423818 -0.47254428 -1.06937814  2.42591308 -0.44005341  1.29349126\n",
      "  -0.12677321 -0.29754701]\n",
      " [-2.86480918  1.63689668  1.0938576   1.04858252 -0.02010522  0.69836725\n",
      "   0.04296785  0.81411158  0.20473443  1.24908194 -0.09087694 -0.79835804\n",
      "  -0.43184669 -1.50598339 -0.36585695  0.00669352 -0.54514974  1.20957248\n",
      "  -0.75869657  0.62544259]\n",
      " [ 2.97096988 -1.02729729 -0.62913309  0.34364815  0.28761303 -1.20369821\n",
      "   0.67671259 -1.7334786   0.28488361  0.98679941  1.94276861 -0.76369465\n",
      "  -1.0414958  -1.34369235  1.03605634 -0.38378536 -0.12481857 -0.07951523\n",
      "   0.10519972 -1.01086308]]\n"
     ]
    }
   ],
   "source": [
    "print(recommender.items_shown[0:3,:])\n",
    "print(top_k_items)\n",
    "print(recommender.predicted_scores.value[0:3,:])\n",
    "\n",
    "np.savetxt(\"predicted_scores.csv\", recommender.predicted_scores.value, delimiter=\",\")\n"
   ]
  },
  {
   "cell_type": "code",
   "execution_count": 166,
   "metadata": {},
   "outputs": [],
   "source": [
    "user_ids = np.arange(0, recommender.num_users)\n",
    "item_ids = np.arange(0, recommender.num_items)\n",
    "user_item_ids= np.dstack(np.meshgrid(item_ids, user_ids)).reshape(-1, 2)\n",
    "long_actual_scores = np.reshape(recommender.users.actual_user_scores.value, (recommender.num_users*recommender.num_items, 1))\n",
    "long_predicted_scores = np.reshape(recommender.predicted_scores.value, (recommender.num_users*recommender.num_items, 1))\n",
    "\n",
    "scores_df = pd.DataFrame(np.hstack((user_item_ids, long_actual_scores, long_predicted_scores)), columns=['item_id', 'user_id', 'actual_scores', 'predicted_scores'])\n",
    "\n",
    "scores_df.head(16)"
   ]
  },
  {
   "cell_type": "code",
   "execution_count": 201,
   "metadata": {},
   "outputs": [
    {
     "name": "stdout",
     "output_type": "stream",
     "text": [
      "[[0.         0.62669818 0.87292633]\n",
      " [0.84352619 0.13365747 0.        ]\n",
      " [0.12704873 0.         0.32997882]\n",
      " [0.5481165  0.         0.77158909]\n",
      " [1.09866841 0.         1.2114165 ]]\n",
      "[[2. 1. 0.]\n",
      " [0. 1. 2.]\n",
      " [1. 2. 0.]\n",
      " [1. 2. 0.]\n",
      " [1. 2. 0.]]\n",
      "[[2.05797979 1.64575314 0.34811002]\n",
      " [2.29881233 1.03274101 0.8351257 ]\n",
      " [1.19390273 0.7576043  0.69827807]\n",
      " [1.40563245 1.22016358 1.05309238]\n",
      " [1.08373781 0.91814404 0.84650509]]\n",
      "[[0. 1. 2.]\n",
      " [0. 1. 2.]\n",
      " [0. 1. 2.]\n",
      " [0. 1. 2.]\n",
      " [0. 1. 2.]]\n",
      "[0.8318657  0.92785467 0.29203814 0.93391104 1.70437666]\n",
      "[1.26832886 0.92785467 0.41013764 1.1174121  1.90459909]\n",
      "[0.6558754  1.         0.7120491  0.83578032 0.89487424]\n"
     ]
    }
   ],
   "source": [
    "shown_item_actual_rel = np.take_along_axis(recommender.users.actual_user_scores.value, recommender.items_shown, axis=1)\n",
    "\n",
    "#the presence of negative relavance scores creates some issues. Add back the minimum value per user to eliminate negatives\n",
    "min_value_shown = np.reshape(np.min(shown_item_actual_rel, axis=1), (-1,1))\n",
    "\n",
    "shown_item_actual_rel += abs(min_value_shown)\n",
    "\n",
    "shown_item_predicted_rel = np.take_along_axis(recommender.predicted_scores.value, recommender.items_shown, axis=1)\n",
    "\n",
    "#flip so rank 1 corresponds to the highest value\n",
    "shown_item_predicted_rank = shown_item_predicted_rel.shape[1] - rankdata(shown_item_predicted_rel, axis=1)\n",
    "shown_item_actual_rank = shown_item_predicted_rel.shape[1] - rankdata(shown_item_actual_rel, axis=1)\n",
    "\n",
    "print(shown_item_actual_rel)\n",
    "print(shown_item_actual_rank)\n",
    "\n",
    "print(shown_item_predicted_rel)\n",
    "print(shown_item_predicted_rank)\n",
    "\n",
    "dcg = np.sum(shown_item_actual_rel / np.log2(shown_item_predicted_rank+2), axis=1)\n",
    "idcg = np.sum(shown_item_actual_rel / np.log2(shown_item_actual_rank+2), axis=1)\n",
    "\n",
    "ndcg = dcg / idcg\n",
    "\n",
    "print(dcg)\n",
    "print(idcg)\n",
    "print(ndcg)\n"
   ]
  },
  {
   "cell_type": "code",
   "execution_count": null,
   "metadata": {},
   "outputs": [],
   "source": [
    "# Collect measurements about the simulation\n",
    "results = mf.get_measurements()\n",
    "\n",
    "print(\"Results of the simulation:\")\n",
    "pd.DataFrame(results)"
   ]
  },
  {
   "cell_type": "code",
   "execution_count": null,
   "metadata": {},
   "outputs": [],
   "source": [
    "# Collect measurements about the simulation\n",
    "results = ideal.get_measurements()\n",
    "\n",
    "print(\"Results of the simulation:\")\n",
    "pd.DataFrame(results)"
   ]
  },
  {
   "cell_type": "code",
   "execution_count": null,
   "metadata": {},
   "outputs": [],
   "source": [
    "results = content.get_measurements()\n",
    "\n",
    "print(\"Results of the simulation:\")\n",
    "pd.DataFrame(results)"
   ]
  },
  {
   "cell_type": "code",
   "execution_count": null,
   "metadata": {},
   "outputs": [],
   "source": [
    "#generate a distribution that hides a subpopulation\n",
    "number_of_attributes = 10\n",
    "number_of_maj_users = 150\n",
    "number_of_min_users = 50\n",
    "\n",
    "maj_user_representation = np.random.normal(1, 2, size=(number_of_maj_users, number_of_attributes))\n",
    "min_user_representation = np.random.normal(0.5, 1.25, size=(number_of_min_users, number_of_attributes))\n",
    "actual_user_representation = np.vstack((maj_user_representation, min_user_representation))\n",
    "split_indices=number_of_maj_users"
   ]
  },
  {
   "cell_type": "code",
   "execution_count": null,
   "metadata": {},
   "outputs": [],
   "source": [
    "#If plotted without respect to the subgroups, preference means look more or less normally distributed\n",
    "plt.hist(actual_user_representation.mean(axis=1))\n",
    "\n"
   ]
  },
  {
   "cell_type": "code",
   "execution_count": null,
   "metadata": {},
   "outputs": [],
   "source": [
    "#when plotting out mean preferences when accounting for group, we can see a clear distinction in preference\n",
    "plt.hist(maj_user_representation.mean(axis=1), alpha=.7, color='b')\n",
    "plt.hist(min_user_representation.mean(axis=1), alpha=0.7, color='r')\n",
    "\n"
   ]
  },
  {
   "cell_type": "code",
   "execution_count": null,
   "metadata": {},
   "outputs": [],
   "source": [
    "filtering = ContentFiltering(actual_user_representation=actual_user_representation, \n",
    "                             num_attributes=number_of_attributes,\n",
    "                             num_items=500)\n",
    "\n",
    "\n",
    "mse = MSEMeasurement(diagnostics=True)\n",
    "recall=RecallMeasurement()\n",
    "\n",
    "filtering.add_metrics(mse, recall)\n",
    "\n",
    "filtering.startup_and_train(50)\n",
    "filtering.run(450)"
   ]
  },
  {
   "cell_type": "code",
   "execution_count": null,
   "metadata": {},
   "outputs": [],
   "source": [
    "mse_diagnostics = filtering.metrics[0].get_diagnostics()\n",
    "mse_beginning = mse_diagnostics.loc[50:, :]\n",
    "mse_beginning.head()\n",
    "\n"
   ]
  },
  {
   "cell_type": "code",
   "execution_count": null,
   "metadata": {},
   "outputs": [],
   "source": [
    "def mse_histogram(model, split_indices=None):\n",
    "    metric = (\n",
    "                model.predicted_scores.value.mean(axis=1)- model.users.actual_user_scores.value.mean(axis=1))** 2\n",
    "    \n",
    "    colors = [\"blue\", \"orange\", \"red\", \"yellow\", \"green\"]\n",
    "    if split_indices is not None and len(split_indices) > 0:\n",
    "        splits = [0] + split_indices + [metric.size]\n",
    "        for i in range(len(splits) - 1):\n",
    "            values = metric[splits[i] : splits[i + 1]]\n",
    "            plt.hist(values, alpha=0.7, color=colors[i])\n",
    "    else:\n",
    "        plt.hist(metric, bins=\"auto\")\n",
    "        plt.ylabel(\"observation count (total n={})\".format(metric.size))\n",
    "        plt.xlabel(\"mean sqaured error\")"
   ]
  },
  {
   "cell_type": "code",
   "execution_count": null,
   "metadata": {},
   "outputs": [],
   "source": [
    "mf.startup_and_train(50)\n"
   ]
  },
  {
   "cell_type": "code",
   "execution_count": null,
   "metadata": {},
   "outputs": [],
   "source": [
    "mse_histogram(mf)"
   ]
  },
  {
   "cell_type": "code",
   "execution_count": null,
   "metadata": {},
   "outputs": [],
   "source": [
    "mf.run(50)\n",
    "mf.train()\n",
    "mse_histogram(mf)"
   ]
  },
  {
   "cell_type": "code",
   "execution_count": null,
   "metadata": {},
   "outputs": [],
   "source": [
    "mf.run(50)\n",
    "mf.train()\n",
    "mse_histogram(mf)"
   ]
  },
  {
   "cell_type": "code",
   "execution_count": null,
   "metadata": {},
   "outputs": [],
   "source": [
    "mf.run(50)\n",
    "mf.train()\n",
    "mse_histogram(mf)"
   ]
  },
  {
   "cell_type": "code",
   "execution_count": null,
   "metadata": {},
   "outputs": [],
   "source": [
    "content.run(50)\n",
    "mse_histogram(content)"
   ]
  },
  {
   "cell_type": "code",
   "execution_count": null,
   "metadata": {},
   "outputs": [],
   "source": [
    "content.run(50)\n",
    "mse_histogram(content)"
   ]
  },
  {
   "cell_type": "code",
   "execution_count": null,
   "metadata": {},
   "outputs": [],
   "source": [
    "print(in_k)\n",
    "print(not_in_k)\n",
    "print(len(model.interactions))\n",
    "k"
   ]
  },
  {
   "cell_type": "code",
   "execution_count": null,
   "metadata": {},
   "outputs": [],
   "source": [
    "\n",
    "np.concatenate((np.ones(len(in_k)), np.zeros(len(not_in_k))), axis=None)"
   ]
  },
  {
   "cell_type": "code",
   "execution_count": null,
   "metadata": {},
   "outputs": [],
   "source": [
    "model=mf\n",
    "k=5\n",
    "\n",
    "#split_indices = number_of_maj_users\n",
    "\n",
    "colors = [\"blue\", \"orange\", \"red\", \"yellow\", \"green\"]\n",
    "\n",
    "shown_item_scores = np.take(model.predicted_scores.value, model.items_shown)\n",
    "shown_item_ranks = np.argsort(shown_item_scores, axis=1)\n",
    "top_k_items = np.take(model.items_shown, shown_item_ranks[:, k :])\n",
    "in_k = (np.where(np.isin(model.interactions, top_k_items))[0])\n",
    "not_in_k = (np.where(~np.isin(model.interactions, top_k_items))[0])\n",
    "metric = np.concatenate((np.ones(len(in_k)), np.zeros(len(not_in_k))), axis=None)\n",
    "\n",
    "plt.hist(metric)\n",
    "\n",
    "##Amy, implement this pie chart for recall at k\n",
    "# # Pie chart, where the slices will be ordered and plotted counter-clockwise:\n",
    "# labels = 'Frogs', 'Hogs', 'Dogs', 'Logs'\n",
    "# sizes = [15, 30, 45, 10]\n",
    "# explode = (0, 0.1, 0, 0)  # only \"explode\" the 2nd slice (i.e. 'Hogs')\n",
    "\n",
    "# fig1, ax1 = plt.subplots()\n",
    "# ax1.pie(sizes, explode=explode, labels=labels, autopct='%1.1f%%',\n",
    "#         shadow=True, startangle=90)\n",
    "# ax1.axis('equal')  # Equal aspect ratio ensures that pie is drawn as a circle.\n",
    "\n",
    "# plt.show()\n",
    "\n",
    "# maj_population_outcomes = metric[:split_indices]\n",
    "# min_population_outcomes = metric[split_indices:]\n",
    "\n",
    "# plt.hist(maj_population_outcomes, color=colors[0])\n",
    "# plt.hist(min_population_outcomes, color=colors[1])\n",
    "\n",
    "\n",
    "\n",
    "# if split_indices is not None:\n",
    "#     splits = [0] + split_indices + [metric.size]\n",
    "#     for i in range(len(splits) - 1):\n",
    "#         values = metric[splits[i] : splits[i + 1]]\n",
    "#         plt.hist(values, alpha=0.7, color=colors[i])\n",
    "\n",
    "# plt.hist(metric, bins=\"auto\")\n",
    "# plt.ylabel(\"observation count (total n={})\".format(metric.size))\n",
    "# plt.xlabel(\"recall at k\")\n",
    "\n",
    "\n",
    "# \n",
    "#     if split_indices is not None and len(split_indices) > 0:\n",
    "#         splits = [0] + split_indices + [metric.size]\n",
    "#         for i in range(len(splits) - 1):\n",
    "#             values = metric[splits[i] : splits[i + 1]]\n",
    "#             plt.hist(values, alpha=0.7, color=colors[i])\n",
    "#     else:\n",
    "#         plt.hist(metric, bins=\"auto\")\n",
    "#         plt.ylabel(\"observation count (total n={})\".format(metric.size))\n",
    "#         plt.xlabel(\"mean sqaured error\")"
   ]
  },
  {
   "cell_type": "code",
   "execution_count": null,
   "metadata": {},
   "outputs": [],
   "source": [
    "plt.hist(min_population_outcomes)"
   ]
  },
  {
   "cell_type": "code",
   "execution_count": null,
   "metadata": {},
   "outputs": [],
   "source": [
    "len(min_population_outcomes)"
   ]
  },
  {
   "cell_type": "code",
   "execution_count": null,
   "metadata": {},
   "outputs": [],
   "source": [
    "metric_histogram(filtering)"
   ]
  },
  {
   "cell_type": "code",
   "execution_count": null,
   "metadata": {},
   "outputs": [],
   "source": [
    "metric_histogram(filtering, [number_of_maj_users])"
   ]
  },
  {
   "cell_type": "code",
   "execution_count": null,
   "metadata": {},
   "outputs": [],
   "source": [
    "#generate a bimodal distribution\n",
    "N=500\n",
    "mu, sigma = 1.845, 1\n",
    "mu2, sigma2 = 5.845, 1\n",
    "X1 = np.random.normal(mu, sigma, N)\n",
    "X2 = np.random.normal(mu2, sigma2, N)\n",
    "X_bimodal = np.concatenate([X1, X2])"
   ]
  },
  {
   "cell_type": "code",
   "execution_count": null,
   "metadata": {},
   "outputs": [],
   "source": [
    "# print majority / minority outcome stats\n",
    "def majority_minority_outcomes(metric, split_index):\n",
    "    split_indices = [split_index]\n",
    "\n",
    "        \n",
    "    maj_mean = metric.last_observation[:split_index].mean()\n",
    "    maj_std = metric.last_observation[:split_index].std()\n",
    "\n",
    "    min_mean = metric.last_observation[split_index:].mean()\n",
    "    min_std = metric.last_observation[split_index:].std()\n",
    "\n",
    "    print(\"Majority group statistics: \", maj_mean, \"(mean), \", maj_std, \"(std)\")\n",
    "    print(\"Minority group statistics: \", min_mean, \"(mean), \", min_std, \"(std)\")\n",
    "    print()\n",
    "    \n",
    "    metric.hist(split_indices)"
   ]
  },
  {
   "cell_type": "markdown",
   "metadata": {},
   "source": [
    "In what follows, we expand on this minimal example to gain a deeper understanding of what happens under the hood."
   ]
  },
  {
   "cell_type": "code",
   "execution_count": null,
   "metadata": {},
   "outputs": [],
   "source": [
    "filtering = ContentFiltering(actual_user_representation=actual_user_representation, \n",
    "                             num_attributes=number_of_attributes,\n",
    "                             num_items=500)\n",
    "\n",
    "\n",
    "mse = MSEMeasurement(diagnostics=True)\n",
    "filtering.add_metrics(mse)\n",
    "\n",
    "filtering.startup_and_train(50)\n",
    "majority_minority_outcomes(mse, number_of_maj_users)\n"
   ]
  },
  {
   "cell_type": "code",
   "execution_count": null,
   "metadata": {},
   "outputs": [],
   "source": [
    "filtering.run(450)\n",
    "majority_minority_outcomes(mse, number_of_maj_users)"
   ]
  },
  {
   "cell_type": "code",
   "execution_count": null,
   "metadata": {},
   "outputs": [],
   "source": [
    "bimodal = plt.hist(X_bimodal, bins=30)\n",
    "plt.xlabel('Dependent Variable Value')\n",
    "plt.ylabel('Number of Observations')\n",
    "plt.title('Bimodal Distribution')\n",
    "plt.show()"
   ]
  },
  {
   "cell_type": "code",
   "execution_count": null,
   "metadata": {},
   "outputs": [],
   "source": [
    "print(np.mean(X_bimodal))\n",
    "print(np.std(X_bimodal))"
   ]
  },
  {
   "cell_type": "code",
   "execution_count": null,
   "metadata": {},
   "outputs": [],
   "source": [
    "N=1000\n",
    "mu, sigma = 14.99, 4\n",
    "X1 = np.random.normal(mu, sigma, N)\n",
    "X_skew = np.log2(X1)\n",
    "\n",
    "skew = plt.hist(X_skew, bins=30)\n",
    "plt.xlabel('Dependent Variable Value')\n",
    "plt.ylabel('Number of Observations')\n",
    "plt.title('Skewed Distribution')\n",
    "plt.show()"
   ]
  },
  {
   "cell_type": "code",
   "execution_count": null,
   "metadata": {},
   "outputs": [],
   "source": [
    "N=1000\n",
    "mu, sigma = 3.85, 2.2\n",
    "normal_dist = np.random.normal(mu, sigma, N)\n",
    "\n",
    "skew = plt.hist(normal_dist, bins=30)\n",
    "plt.xlabel('Dependent Variable Value')\n",
    "plt.ylabel('Number of Observations')\n",
    "plt.title('Normal Distribution')\n",
    "plt.show()"
   ]
  },
  {
   "cell_type": "code",
   "execution_count": null,
   "metadata": {},
   "outputs": [],
   "source": [
    "#How to characterize power, type 1 vs type 2 errors "
   ]
  }
 ],
 "metadata": {
  "kernelspec": {
   "display_name": "trecsEnv",
   "language": "python",
   "name": "trecsenv"
  },
  "language_info": {
   "codemirror_mode": {
    "name": "ipython",
    "version": 3
   },
   "file_extension": ".py",
   "mimetype": "text/x-python",
   "name": "python",
   "nbconvert_exporter": "python",
   "pygments_lexer": "ipython3",
   "version": "3.7.9"
  }
 },
 "nbformat": 4,
 "nbformat_minor": 4
}
